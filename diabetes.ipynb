{
 "cells": [
  {
   "cell_type": "code",
   "execution_count": 57,
   "id": "7c407766",
   "metadata": {
    "ExecuteTime": {
     "end_time": "2022-07-21T18:00:19.401301Z",
     "start_time": "2022-07-21T18:00:19.383350Z"
    }
   },
   "outputs": [],
   "source": [
    "import pandas as pd\n",
    "import numpy as np\n",
    "import seaborn as sns\n",
    "import matplotlib.pyplot as plt"
   ]
  },
  {
   "cell_type": "code",
   "execution_count": 58,
   "id": "c3156050",
   "metadata": {
    "ExecuteTime": {
     "end_time": "2022-07-21T18:00:19.542374Z",
     "start_time": "2022-07-21T18:00:19.403297Z"
    }
   },
   "outputs": [
    {
     "data": {
      "text/html": [
       "<div>\n",
       "<style scoped>\n",
       "    .dataframe tbody tr th:only-of-type {\n",
       "        vertical-align: middle;\n",
       "    }\n",
       "\n",
       "    .dataframe tbody tr th {\n",
       "        vertical-align: top;\n",
       "    }\n",
       "\n",
       "    .dataframe thead th {\n",
       "        text-align: right;\n",
       "    }\n",
       "</style>\n",
       "<table border=\"1\" class=\"dataframe\">\n",
       "  <thead>\n",
       "    <tr style=\"text-align: right;\">\n",
       "      <th></th>\n",
       "      <th>patient_nbr</th>\n",
       "      <th>race</th>\n",
       "      <th>gender</th>\n",
       "      <th>age</th>\n",
       "      <th>admission_type_id</th>\n",
       "      <th>discharge_disposition_id</th>\n",
       "      <th>admission_source_id</th>\n",
       "      <th>time_in_hospital</th>\n",
       "      <th>num_lab_procedures</th>\n",
       "      <th>num_procedures</th>\n",
       "      <th>num_medications</th>\n",
       "      <th>number_outpatient</th>\n",
       "      <th>number_emergency</th>\n",
       "      <th>number_inpatient</th>\n",
       "      <th>diag_1</th>\n",
       "      <th>diag_2</th>\n",
       "      <th>diag_3</th>\n",
       "      <th>number_diagnoses</th>\n",
       "      <th>change</th>\n",
       "      <th>diabatic</th>\n",
       "    </tr>\n",
       "  </thead>\n",
       "  <tbody>\n",
       "    <tr>\n",
       "      <th>0</th>\n",
       "      <td>8222157</td>\n",
       "      <td>Caucasian</td>\n",
       "      <td>Female</td>\n",
       "      <td>[0-10)</td>\n",
       "      <td>6</td>\n",
       "      <td>25</td>\n",
       "      <td>1</td>\n",
       "      <td>1</td>\n",
       "      <td>41</td>\n",
       "      <td>0</td>\n",
       "      <td>1</td>\n",
       "      <td>0</td>\n",
       "      <td>0</td>\n",
       "      <td>0</td>\n",
       "      <td>250.83</td>\n",
       "      <td>?</td>\n",
       "      <td>?</td>\n",
       "      <td>1</td>\n",
       "      <td>No</td>\n",
       "      <td>No</td>\n",
       "    </tr>\n",
       "    <tr>\n",
       "      <th>1</th>\n",
       "      <td>55629189</td>\n",
       "      <td>Caucasian</td>\n",
       "      <td>Female</td>\n",
       "      <td>[10-20)</td>\n",
       "      <td>1</td>\n",
       "      <td>1</td>\n",
       "      <td>7</td>\n",
       "      <td>3</td>\n",
       "      <td>59</td>\n",
       "      <td>0</td>\n",
       "      <td>18</td>\n",
       "      <td>0</td>\n",
       "      <td>0</td>\n",
       "      <td>0</td>\n",
       "      <td>276</td>\n",
       "      <td>250.01</td>\n",
       "      <td>255</td>\n",
       "      <td>9</td>\n",
       "      <td>Ch</td>\n",
       "      <td>Yes</td>\n",
       "    </tr>\n",
       "    <tr>\n",
       "      <th>2</th>\n",
       "      <td>86047875</td>\n",
       "      <td>AfricanAmerican</td>\n",
       "      <td>Female</td>\n",
       "      <td>[20-30)</td>\n",
       "      <td>1</td>\n",
       "      <td>1</td>\n",
       "      <td>7</td>\n",
       "      <td>2</td>\n",
       "      <td>11</td>\n",
       "      <td>5</td>\n",
       "      <td>13</td>\n",
       "      <td>2</td>\n",
       "      <td>0</td>\n",
       "      <td>1</td>\n",
       "      <td>648</td>\n",
       "      <td>250</td>\n",
       "      <td>V27</td>\n",
       "      <td>6</td>\n",
       "      <td>No</td>\n",
       "      <td>Yes</td>\n",
       "    </tr>\n",
       "    <tr>\n",
       "      <th>3</th>\n",
       "      <td>82442376</td>\n",
       "      <td>Caucasian</td>\n",
       "      <td>Male</td>\n",
       "      <td>[30-40)</td>\n",
       "      <td>1</td>\n",
       "      <td>1</td>\n",
       "      <td>7</td>\n",
       "      <td>2</td>\n",
       "      <td>44</td>\n",
       "      <td>1</td>\n",
       "      <td>16</td>\n",
       "      <td>0</td>\n",
       "      <td>0</td>\n",
       "      <td>0</td>\n",
       "      <td>8</td>\n",
       "      <td>250.43</td>\n",
       "      <td>403</td>\n",
       "      <td>7</td>\n",
       "      <td>Ch</td>\n",
       "      <td>Yes</td>\n",
       "    </tr>\n",
       "    <tr>\n",
       "      <th>4</th>\n",
       "      <td>42519267</td>\n",
       "      <td>Caucasian</td>\n",
       "      <td>Male</td>\n",
       "      <td>[40-50)</td>\n",
       "      <td>1</td>\n",
       "      <td>1</td>\n",
       "      <td>7</td>\n",
       "      <td>1</td>\n",
       "      <td>51</td>\n",
       "      <td>0</td>\n",
       "      <td>8</td>\n",
       "      <td>0</td>\n",
       "      <td>0</td>\n",
       "      <td>0</td>\n",
       "      <td>197</td>\n",
       "      <td>157</td>\n",
       "      <td>250</td>\n",
       "      <td>5</td>\n",
       "      <td>Ch</td>\n",
       "      <td>Yes</td>\n",
       "    </tr>\n",
       "  </tbody>\n",
       "</table>\n",
       "</div>"
      ],
      "text/plain": [
       "   patient_nbr             race  gender      age  admission_type_id  \\\n",
       "0      8222157        Caucasian  Female   [0-10)                  6   \n",
       "1     55629189        Caucasian  Female  [10-20)                  1   \n",
       "2     86047875  AfricanAmerican  Female  [20-30)                  1   \n",
       "3     82442376        Caucasian    Male  [30-40)                  1   \n",
       "4     42519267        Caucasian    Male  [40-50)                  1   \n",
       "\n",
       "   discharge_disposition_id  admission_source_id  time_in_hospital  \\\n",
       "0                        25                    1                 1   \n",
       "1                         1                    7                 3   \n",
       "2                         1                    7                 2   \n",
       "3                         1                    7                 2   \n",
       "4                         1                    7                 1   \n",
       "\n",
       "   num_lab_procedures  num_procedures  num_medications  number_outpatient  \\\n",
       "0                  41               0                1                  0   \n",
       "1                  59               0               18                  0   \n",
       "2                  11               5               13                  2   \n",
       "3                  44               1               16                  0   \n",
       "4                  51               0                8                  0   \n",
       "\n",
       "   number_emergency  number_inpatient  diag_1  diag_2 diag_3  \\\n",
       "0                 0                 0  250.83       ?      ?   \n",
       "1                 0                 0     276  250.01    255   \n",
       "2                 0                 1     648     250    V27   \n",
       "3                 0                 0       8  250.43    403   \n",
       "4                 0                 0     197     157    250   \n",
       "\n",
       "   number_diagnoses change diabatic  \n",
       "0                 1     No       No  \n",
       "1                 9     Ch      Yes  \n",
       "2                 6     No      Yes  \n",
       "3                 7     Ch      Yes  \n",
       "4                 5     Ch      Yes  "
      ]
     },
     "execution_count": 58,
     "metadata": {},
     "output_type": "execute_result"
    }
   ],
   "source": [
    "df=pd.read_csv(r\"C:\\Users\\91790\\OneDrive\\Documents\\New Data Science Training Classes from 11th July\\dataset_diabetes_diabetic_data.csv\")\n",
    "df.head()"
   ]
  },
  {
   "cell_type": "code",
   "execution_count": 59,
   "id": "361f94d0",
   "metadata": {
    "ExecuteTime": {
     "end_time": "2022-07-21T18:00:19.557447Z",
     "start_time": "2022-07-21T18:00:19.544338Z"
    }
   },
   "outputs": [
    {
     "data": {
      "text/plain": [
       "(70180, 20)"
      ]
     },
     "execution_count": 59,
     "metadata": {},
     "output_type": "execute_result"
    }
   ],
   "source": [
    "df.shape"
   ]
  },
  {
   "cell_type": "code",
   "execution_count": null,
   "id": "7828fbf4",
   "metadata": {},
   "outputs": [],
   "source": []
  },
  {
   "cell_type": "code",
   "execution_count": 60,
   "id": "4b0fb35e",
   "metadata": {
    "ExecuteTime": {
     "end_time": "2022-07-21T18:00:19.620635Z",
     "start_time": "2022-07-21T18:00:19.561438Z"
    }
   },
   "outputs": [
    {
     "data": {
      "text/html": [
       "<div>\n",
       "<style scoped>\n",
       "    .dataframe tbody tr th:only-of-type {\n",
       "        vertical-align: middle;\n",
       "    }\n",
       "\n",
       "    .dataframe tbody tr th {\n",
       "        vertical-align: top;\n",
       "    }\n",
       "\n",
       "    .dataframe thead th {\n",
       "        text-align: right;\n",
       "    }\n",
       "</style>\n",
       "<table border=\"1\" class=\"dataframe\">\n",
       "  <thead>\n",
       "    <tr style=\"text-align: right;\">\n",
       "      <th></th>\n",
       "      <th>patient_nbr</th>\n",
       "      <th>admission_type_id</th>\n",
       "      <th>discharge_disposition_id</th>\n",
       "      <th>admission_source_id</th>\n",
       "      <th>time_in_hospital</th>\n",
       "      <th>num_lab_procedures</th>\n",
       "      <th>num_procedures</th>\n",
       "      <th>num_medications</th>\n",
       "      <th>number_outpatient</th>\n",
       "      <th>number_emergency</th>\n",
       "      <th>number_inpatient</th>\n",
       "      <th>number_diagnoses</th>\n",
       "    </tr>\n",
       "  </thead>\n",
       "  <tbody>\n",
       "    <tr>\n",
       "      <th>count</th>\n",
       "      <td>7.018000e+04</td>\n",
       "      <td>70180.000000</td>\n",
       "      <td>70180.000000</td>\n",
       "      <td>70180.000000</td>\n",
       "      <td>70180.000000</td>\n",
       "      <td>70180.000000</td>\n",
       "      <td>70180.000000</td>\n",
       "      <td>70180.000000</td>\n",
       "      <td>70180.000000</td>\n",
       "      <td>70180.000000</td>\n",
       "      <td>70180.00000</td>\n",
       "      <td>70180.000000</td>\n",
       "    </tr>\n",
       "    <tr>\n",
       "      <th>mean</th>\n",
       "      <td>4.589563e+07</td>\n",
       "      <td>2.121730</td>\n",
       "      <td>3.981305</td>\n",
       "      <td>5.926404</td>\n",
       "      <td>4.439370</td>\n",
       "      <td>42.670020</td>\n",
       "      <td>1.350043</td>\n",
       "      <td>15.338772</td>\n",
       "      <td>0.294543</td>\n",
       "      <td>0.156312</td>\n",
       "      <td>0.60513</td>\n",
       "      <td>7.154104</td>\n",
       "    </tr>\n",
       "    <tr>\n",
       "      <th>std</th>\n",
       "      <td>3.707033e+07</td>\n",
       "      <td>1.532443</td>\n",
       "      <td>5.657360</td>\n",
       "      <td>4.424962</td>\n",
       "      <td>3.032789</td>\n",
       "      <td>19.197482</td>\n",
       "      <td>1.683676</td>\n",
       "      <td>8.071803</td>\n",
       "      <td>1.052725</td>\n",
       "      <td>0.722395</td>\n",
       "      <td>1.22914</td>\n",
       "      <td>1.992406</td>\n",
       "    </tr>\n",
       "    <tr>\n",
       "      <th>min</th>\n",
       "      <td>1.350000e+02</td>\n",
       "      <td>1.000000</td>\n",
       "      <td>1.000000</td>\n",
       "      <td>1.000000</td>\n",
       "      <td>1.000000</td>\n",
       "      <td>1.000000</td>\n",
       "      <td>0.000000</td>\n",
       "      <td>1.000000</td>\n",
       "      <td>0.000000</td>\n",
       "      <td>0.000000</td>\n",
       "      <td>0.00000</td>\n",
       "      <td>1.000000</td>\n",
       "    </tr>\n",
       "    <tr>\n",
       "      <th>25%</th>\n",
       "      <td>1.521589e+07</td>\n",
       "      <td>1.000000</td>\n",
       "      <td>1.000000</td>\n",
       "      <td>1.000000</td>\n",
       "      <td>2.000000</td>\n",
       "      <td>31.000000</td>\n",
       "      <td>0.000000</td>\n",
       "      <td>10.000000</td>\n",
       "      <td>0.000000</td>\n",
       "      <td>0.000000</td>\n",
       "      <td>0.00000</td>\n",
       "      <td>5.000000</td>\n",
       "    </tr>\n",
       "    <tr>\n",
       "      <th>50%</th>\n",
       "      <td>3.572850e+07</td>\n",
       "      <td>1.000000</td>\n",
       "      <td>1.000000</td>\n",
       "      <td>7.000000</td>\n",
       "      <td>4.000000</td>\n",
       "      <td>44.000000</td>\n",
       "      <td>1.000000</td>\n",
       "      <td>14.000000</td>\n",
       "      <td>0.000000</td>\n",
       "      <td>0.000000</td>\n",
       "      <td>0.00000</td>\n",
       "      <td>8.000000</td>\n",
       "    </tr>\n",
       "    <tr>\n",
       "      <th>75%</th>\n",
       "      <td>8.317725e+07</td>\n",
       "      <td>3.000000</td>\n",
       "      <td>5.000000</td>\n",
       "      <td>7.000000</td>\n",
       "      <td>6.000000</td>\n",
       "      <td>56.000000</td>\n",
       "      <td>2.000000</td>\n",
       "      <td>19.000000</td>\n",
       "      <td>0.000000</td>\n",
       "      <td>0.000000</td>\n",
       "      <td>1.00000</td>\n",
       "      <td>9.000000</td>\n",
       "    </tr>\n",
       "    <tr>\n",
       "      <th>max</th>\n",
       "      <td>1.893511e+08</td>\n",
       "      <td>8.000000</td>\n",
       "      <td>28.000000</td>\n",
       "      <td>20.000000</td>\n",
       "      <td>14.000000</td>\n",
       "      <td>129.000000</td>\n",
       "      <td>6.000000</td>\n",
       "      <td>81.000000</td>\n",
       "      <td>36.000000</td>\n",
       "      <td>64.000000</td>\n",
       "      <td>21.00000</td>\n",
       "      <td>16.000000</td>\n",
       "    </tr>\n",
       "  </tbody>\n",
       "</table>\n",
       "</div>"
      ],
      "text/plain": [
       "        patient_nbr  admission_type_id  discharge_disposition_id  \\\n",
       "count  7.018000e+04       70180.000000              70180.000000   \n",
       "mean   4.589563e+07           2.121730                  3.981305   \n",
       "std    3.707033e+07           1.532443                  5.657360   \n",
       "min    1.350000e+02           1.000000                  1.000000   \n",
       "25%    1.521589e+07           1.000000                  1.000000   \n",
       "50%    3.572850e+07           1.000000                  1.000000   \n",
       "75%    8.317725e+07           3.000000                  5.000000   \n",
       "max    1.893511e+08           8.000000                 28.000000   \n",
       "\n",
       "       admission_source_id  time_in_hospital  num_lab_procedures  \\\n",
       "count         70180.000000      70180.000000        70180.000000   \n",
       "mean              5.926404          4.439370           42.670020   \n",
       "std               4.424962          3.032789           19.197482   \n",
       "min               1.000000          1.000000            1.000000   \n",
       "25%               1.000000          2.000000           31.000000   \n",
       "50%               7.000000          4.000000           44.000000   \n",
       "75%               7.000000          6.000000           56.000000   \n",
       "max              20.000000         14.000000          129.000000   \n",
       "\n",
       "       num_procedures  num_medications  number_outpatient  number_emergency  \\\n",
       "count    70180.000000     70180.000000       70180.000000      70180.000000   \n",
       "mean         1.350043        15.338772           0.294543          0.156312   \n",
       "std          1.683676         8.071803           1.052725          0.722395   \n",
       "min          0.000000         1.000000           0.000000          0.000000   \n",
       "25%          0.000000        10.000000           0.000000          0.000000   \n",
       "50%          1.000000        14.000000           0.000000          0.000000   \n",
       "75%          2.000000        19.000000           0.000000          0.000000   \n",
       "max          6.000000        81.000000          36.000000         64.000000   \n",
       "\n",
       "       number_inpatient  number_diagnoses  \n",
       "count       70180.00000      70180.000000  \n",
       "mean            0.60513          7.154104  \n",
       "std             1.22914          1.992406  \n",
       "min             0.00000          1.000000  \n",
       "25%             0.00000          5.000000  \n",
       "50%             0.00000          8.000000  \n",
       "75%             1.00000          9.000000  \n",
       "max            21.00000         16.000000  "
      ]
     },
     "execution_count": 60,
     "metadata": {},
     "output_type": "execute_result"
    }
   ],
   "source": [
    "df.describe()"
   ]
  },
  {
   "cell_type": "code",
   "execution_count": null,
   "id": "944fd5a4",
   "metadata": {},
   "outputs": [],
   "source": []
  },
  {
   "cell_type": "code",
   "execution_count": 61,
   "id": "2d2e92e1",
   "metadata": {
    "ExecuteTime": {
     "end_time": "2022-07-21T18:00:19.635569Z",
     "start_time": "2022-07-21T18:00:19.622604Z"
    }
   },
   "outputs": [
    {
     "data": {
      "text/plain": [
       "Index(['patient_nbr', 'race', 'gender', 'age', 'admission_type_id',\n",
       "       'discharge_disposition_id', 'admission_source_id', 'time_in_hospital',\n",
       "       'num_lab_procedures', 'num_procedures', 'num_medications',\n",
       "       'number_outpatient', 'number_emergency', 'number_inpatient', 'diag_1',\n",
       "       'diag_2', 'diag_3', 'number_diagnoses', 'change', 'diabatic'],\n",
       "      dtype='object')"
      ]
     },
     "execution_count": 61,
     "metadata": {},
     "output_type": "execute_result"
    }
   ],
   "source": [
    "df.columns"
   ]
  },
  {
   "cell_type": "markdown",
   "id": "035dd73d",
   "metadata": {},
   "source": [
    "#### Here 0 missing values are showing because missing values are in the form of \"?\""
   ]
  },
  {
   "cell_type": "code",
   "execution_count": 62,
   "id": "dfc75558",
   "metadata": {
    "ExecuteTime": {
     "end_time": "2022-07-21T18:00:19.666516Z",
     "start_time": "2022-07-21T18:00:19.636566Z"
    }
   },
   "outputs": [
    {
     "data": {
      "text/plain": [
       "patient_nbr                 0\n",
       "race                        0\n",
       "gender                      0\n",
       "age                         0\n",
       "admission_type_id           0\n",
       "discharge_disposition_id    0\n",
       "admission_source_id         0\n",
       "time_in_hospital            0\n",
       "num_lab_procedures          0\n",
       "num_procedures              0\n",
       "num_medications             0\n",
       "number_outpatient           0\n",
       "number_emergency            0\n",
       "number_inpatient            0\n",
       "diag_1                      0\n",
       "diag_2                      0\n",
       "diag_3                      0\n",
       "number_diagnoses            0\n",
       "change                      0\n",
       "diabatic                    0\n",
       "dtype: int64"
      ]
     },
     "execution_count": 62,
     "metadata": {},
     "output_type": "execute_result"
    }
   ],
   "source": [
    "df.isnull().sum()"
   ]
  },
  {
   "cell_type": "code",
   "execution_count": 63,
   "id": "01a3ee94",
   "metadata": {
    "ExecuteTime": {
     "end_time": "2022-07-21T18:00:19.681446Z",
     "start_time": "2022-07-21T18:00:19.667484Z"
    }
   },
   "outputs": [],
   "source": [
    "df.drop(columns=\"patient_nbr\",axis=1,inplace=True)"
   ]
  },
  {
   "cell_type": "code",
   "execution_count": 64,
   "id": "1a68b48c",
   "metadata": {
    "ExecuteTime": {
     "end_time": "2022-07-21T18:00:19.697517Z",
     "start_time": "2022-07-21T18:00:19.682444Z"
    }
   },
   "outputs": [
    {
     "data": {
      "text/plain": [
       "(70180, 19)"
      ]
     },
     "execution_count": 64,
     "metadata": {},
     "output_type": "execute_result"
    }
   ],
   "source": [
    "df.shape"
   ]
  },
  {
   "cell_type": "code",
   "execution_count": 65,
   "id": "fbacb6b9",
   "metadata": {
    "ExecuteTime": {
     "end_time": "2022-07-21T18:00:19.712433Z",
     "start_time": "2022-07-21T18:00:19.700464Z"
    }
   },
   "outputs": [
    {
     "data": {
      "text/plain": [
       "race                        object\n",
       "gender                      object\n",
       "age                         object\n",
       "admission_type_id            int64\n",
       "discharge_disposition_id     int64\n",
       "admission_source_id          int64\n",
       "time_in_hospital             int64\n",
       "num_lab_procedures           int64\n",
       "num_procedures               int64\n",
       "num_medications              int64\n",
       "number_outpatient            int64\n",
       "number_emergency             int64\n",
       "number_inpatient             int64\n",
       "diag_1                      object\n",
       "diag_2                      object\n",
       "diag_3                      object\n",
       "number_diagnoses             int64\n",
       "change                      object\n",
       "diabatic                    object\n",
       "dtype: object"
      ]
     },
     "execution_count": 65,
     "metadata": {},
     "output_type": "execute_result"
    }
   ],
   "source": [
    "df.dtypes"
   ]
  },
  {
   "cell_type": "code",
   "execution_count": 66,
   "id": "0064c9f4",
   "metadata": {
    "ExecuteTime": {
     "end_time": "2022-07-21T18:00:19.758817Z",
     "start_time": "2022-07-21T18:00:19.715427Z"
    }
   },
   "outputs": [
    {
     "data": {
      "text/plain": [
       "race                          6\n",
       "gender                        3\n",
       "age                          10\n",
       "admission_type_id             8\n",
       "discharge_disposition_id     26\n",
       "admission_source_id          13\n",
       "time_in_hospital             14\n",
       "num_lab_procedures          116\n",
       "num_procedures                7\n",
       "num_medications              74\n",
       "number_outpatient            29\n",
       "number_emergency             19\n",
       "number_inpatient             21\n",
       "diag_1                      685\n",
       "diag_2                      702\n",
       "diag_3                      727\n",
       "number_diagnoses             16\n",
       "change                        2\n",
       "diabatic                      2\n",
       "dtype: int64"
      ]
     },
     "execution_count": 66,
     "metadata": {},
     "output_type": "execute_result"
    }
   ],
   "source": [
    "df.nunique()"
   ]
  },
  {
   "cell_type": "markdown",
   "id": "71f4a30a",
   "metadata": {},
   "source": [
    "#### Missing Values"
   ]
  },
  {
   "cell_type": "code",
   "execution_count": 67,
   "id": "c979f7db",
   "metadata": {
    "ExecuteTime": {
     "end_time": "2022-07-21T18:00:19.774573Z",
     "start_time": "2022-07-21T18:00:19.759579Z"
    }
   },
   "outputs": [
    {
     "data": {
      "text/plain": [
       "19"
      ]
     },
     "execution_count": 67,
     "metadata": {},
     "output_type": "execute_result"
    }
   ],
   "source": [
    "df[df['diag_1']=='?']['diag_1'].count()"
   ]
  },
  {
   "cell_type": "code",
   "execution_count": 68,
   "id": "94fbc3a9",
   "metadata": {
    "ExecuteTime": {
     "end_time": "2022-07-21T18:00:19.790589Z",
     "start_time": "2022-07-21T18:00:19.776598Z"
    }
   },
   "outputs": [
    {
     "data": {
      "text/plain": [
       "304"
      ]
     },
     "execution_count": 68,
     "metadata": {},
     "output_type": "execute_result"
    }
   ],
   "source": [
    "df[df['diag_2']=='?']['diag_2'].count()"
   ]
  },
  {
   "cell_type": "code",
   "execution_count": 69,
   "id": "9bcb897c",
   "metadata": {
    "ExecuteTime": {
     "end_time": "2022-07-21T18:00:19.806489Z",
     "start_time": "2022-07-21T18:00:19.793524Z"
    }
   },
   "outputs": [
    {
     "data": {
      "text/plain": [
       "1237"
      ]
     },
     "execution_count": 69,
     "metadata": {},
     "output_type": "execute_result"
    }
   ],
   "source": [
    "df[df['diag_3']=='?']['diag_3'].count()"
   ]
  },
  {
   "cell_type": "markdown",
   "id": "f9e53e59",
   "metadata": {},
   "source": [
    "#### Missing Values count and column detection"
   ]
  },
  {
   "cell_type": "code",
   "execution_count": 70,
   "id": "f441c992",
   "metadata": {
    "ExecuteTime": {
     "end_time": "2022-07-21T18:00:19.883865Z",
     "start_time": "2022-07-21T18:00:19.808485Z"
    }
   },
   "outputs": [
    {
     "name": "stdout",
     "output_type": "stream",
     "text": [
      "race column has missing values count :- 1461\n",
      "diag_1 column has missing values count :- 19\n",
      "diag_2 column has missing values count :- 304\n",
      "diag_3 column has missing values count :- 1237\n"
     ]
    },
    {
     "data": {
      "text/plain": [
       "4"
      ]
     },
     "execution_count": 70,
     "metadata": {},
     "output_type": "execute_result"
    }
   ],
   "source": [
    "cnt=0\n",
    "for i in df:\n",
    "    if df[df[i]==\"?\"][i].count()>0:\n",
    "        print(i,\"column has missing values count :-\",df[df[i]=='?'][i].count())\n",
    "        cnt+=1\n",
    "cnt"
   ]
  },
  {
   "cell_type": "code",
   "execution_count": 71,
   "id": "3e781674",
   "metadata": {
    "ExecuteTime": {
     "end_time": "2022-07-21T18:00:19.899821Z",
     "start_time": "2022-07-21T18:00:19.886874Z"
    }
   },
   "outputs": [
    {
     "data": {
      "text/plain": [
       "(70180, 19)"
      ]
     },
     "execution_count": 71,
     "metadata": {},
     "output_type": "execute_result"
    }
   ],
   "source": [
    "df.shape"
   ]
  },
  {
   "cell_type": "code",
   "execution_count": 72,
   "id": "0e120a6d",
   "metadata": {
    "ExecuteTime": {
     "end_time": "2022-07-21T18:00:19.914781Z",
     "start_time": "2022-07-21T18:00:19.900819Z"
    }
   },
   "outputs": [],
   "source": [
    "df.drop(columns=[\"diag_1\",'diag_2','diag_3'],axis=1,inplace=True)"
   ]
  },
  {
   "cell_type": "code",
   "execution_count": 73,
   "id": "3c918822",
   "metadata": {
    "ExecuteTime": {
     "end_time": "2022-07-21T18:00:19.930775Z",
     "start_time": "2022-07-21T18:00:19.919781Z"
    }
   },
   "outputs": [
    {
     "data": {
      "text/plain": [
       "(70180, 16)"
      ]
     },
     "execution_count": 73,
     "metadata": {},
     "output_type": "execute_result"
    }
   ],
   "source": [
    "df.shape"
   ]
  },
  {
   "cell_type": "code",
   "execution_count": 74,
   "id": "230bdd6b",
   "metadata": {
    "ExecuteTime": {
     "end_time": "2022-07-21T18:00:19.978611Z",
     "start_time": "2022-07-21T18:00:19.932734Z"
    }
   },
   "outputs": [
    {
     "name": "stdout",
     "output_type": "stream",
     "text": [
      "\n",
      "\n",
      "Duplicate Rows : \n",
      "                   race  gender      age  admission_type_id  \\\n",
      "4722   AfricanAmerican  Female  [10-20)                  1   \n",
      "17298        Caucasian  Female  [20-30)                  3   \n",
      "18111        Caucasian    Male  [70-80)                  1   \n",
      "23475        Caucasian    Male   [0-10)                  1   \n",
      "23932  AfricanAmerican  Female  [50-60)                  1   \n",
      "34892  AfricanAmerican  Female  [50-60)                  1   \n",
      "41130        Caucasian  Female  [50-60)                  1   \n",
      "44590        Caucasian    Male  [70-80)                  1   \n",
      "54543        Caucasian    Male  [80-90)                  1   \n",
      "56744  AfricanAmerican    Male  [70-80)                  1   \n",
      "59066        Caucasian    Male  [70-80)                  1   \n",
      "61728  AfricanAmerican    Male  [40-50)                  1   \n",
      "62044        Caucasian    Male  [70-80)                  1   \n",
      "62366  AfricanAmerican  Female  [50-60)                  2   \n",
      "62492        Caucasian  Female  [50-60)                  1   \n",
      "66963        Caucasian    Male  [60-70)                  3   \n",
      "67015        Caucasian    Male  [40-50)                  1   \n",
      "67578        Caucasian  Female  [80-90)                  1   \n",
      "68098        Caucasian    Male  [70-80)                  1   \n",
      "69307        Caucasian    Male  [80-90)                  1   \n",
      "69553        Caucasian  Female  [60-70)                  1   \n",
      "70178        Caucasian  Female  [80-90)                  1   \n",
      "\n",
      "       discharge_disposition_id  admission_source_id  time_in_hospital  \\\n",
      "4722                          1                    7                 3   \n",
      "17298                         1                    1                 3   \n",
      "18111                        18                    7                 2   \n",
      "23475                         1                    7                 3   \n",
      "23932                         1                    7                 2   \n",
      "34892                         1                    7                 1   \n",
      "41130                         1                    7                 1   \n",
      "44590                         1                    7                 1   \n",
      "54543                         1                    7                 2   \n",
      "56744                         1                    7                 4   \n",
      "59066                         1                    7                 1   \n",
      "61728                         1                    7                 1   \n",
      "62044                         6                    7                 2   \n",
      "62366                         1                    1                 4   \n",
      "62492                         1                    7                 3   \n",
      "66963                         1                    1                 1   \n",
      "67015                         1                    7                 2   \n",
      "67578                         1                    7                 3   \n",
      "68098                         1                    7                 1   \n",
      "69307                         1                    7                 3   \n",
      "69553                         1                    7                 2   \n",
      "70178                         1                    7                 1   \n",
      "\n",
      "       num_lab_procedures  num_procedures  num_medications  number_outpatient  \\\n",
      "4722                   51               0                3                  0   \n",
      "17298                  22               1               15                  0   \n",
      "18111                  40               0                9                  0   \n",
      "23475                  47               0                5                  0   \n",
      "23932                  34               0                8                  0   \n",
      "34892                  46               0               10                  0   \n",
      "41130                  41               0                8                  0   \n",
      "44590                  32               0                4                  0   \n",
      "54543                  57               0               11                  0   \n",
      "56744                  45               0               15                  0   \n",
      "59066                  40               0                7                  0   \n",
      "61728                  41               0                9                  0   \n",
      "62044                   1               0               10                  0   \n",
      "62366                  45               0               11                  0   \n",
      "62492                  40               0               16                  0   \n",
      "66963                  31               6                5                  0   \n",
      "67015                   1               0               11                  0   \n",
      "67578                  56               0               10                  0   \n",
      "68098                  37               0                3                  0   \n",
      "69307                  34               0                9                  0   \n",
      "69553                  26               0               16                  0   \n",
      "70178                  49               0               12                  0   \n",
      "\n",
      "       number_emergency  number_inpatient  number_diagnoses change diabatic  \n",
      "4722                  0                 0                 1     No      Yes  \n",
      "17298                 0                 0                 7     No       No  \n",
      "18111                 0                 0                 6     Ch      Yes  \n",
      "23475                 0                 0                 1     No      Yes  \n",
      "23932                 0                 0                 4     No      Yes  \n",
      "34892                 0                 0                 6     No      Yes  \n",
      "41130                 0                 0                 5     Ch      Yes  \n",
      "44590                 0                 0                 3     No      Yes  \n",
      "54543                 0                 0                 9     Ch      Yes  \n",
      "56744                 0                 0                 9     Ch      Yes  \n",
      "59066                 0                 0                 4     No      Yes  \n",
      "61728                 0                 0                 6     Ch      Yes  \n",
      "62044                 0                 0                 9     No      Yes  \n",
      "62366                 0                 0                 9     No       No  \n",
      "62492                 0                 0                 9     No       No  \n",
      "66963                 0                 0                 5     No       No  \n",
      "67015                 0                 0                 9     No       No  \n",
      "67578                 0                 0                 9     No       No  \n",
      "68098                 0                 1                 9     No       No  \n",
      "69307                 0                 1                 9     No       No  \n",
      "69553                 0                 0                 9     No       No  \n",
      "70178                 0                 0                 9     No       No  \n"
     ]
    }
   ],
   "source": [
    "Dup_Rows=df[df.duplicated()]\n",
    "\n",
    "print(\"\\n\\nDuplicate Rows : \\n {}\".format(Dup_Rows))"
   ]
  },
  {
   "cell_type": "code",
   "execution_count": 75,
   "id": "78c64fea",
   "metadata": {
    "ExecuteTime": {
     "end_time": "2022-07-21T18:00:20.026668Z",
     "start_time": "2022-07-21T18:00:19.979610Z"
    }
   },
   "outputs": [],
   "source": [
    "df.drop_duplicates(keep='first',inplace=True)"
   ]
  },
  {
   "cell_type": "code",
   "execution_count": 76,
   "id": "544dc2c0",
   "metadata": {
    "ExecuteTime": {
     "end_time": "2022-07-21T18:00:20.042663Z",
     "start_time": "2022-07-21T18:00:20.029660Z"
    }
   },
   "outputs": [
    {
     "data": {
      "text/plain": [
       "(70158, 16)"
      ]
     },
     "execution_count": 76,
     "metadata": {},
     "output_type": "execute_result"
    }
   ],
   "source": [
    "df.shape"
   ]
  },
  {
   "cell_type": "markdown",
   "id": "f1ed60f2",
   "metadata": {},
   "source": [
    "#### Correlation"
   ]
  },
  {
   "cell_type": "code",
   "execution_count": 77,
   "id": "9c318333",
   "metadata": {
    "ExecuteTime": {
     "end_time": "2022-07-21T18:00:20.573986Z",
     "start_time": "2022-07-21T18:00:20.043653Z"
    }
   },
   "outputs": [
    {
     "data": {
      "text/plain": [
       "<AxesSubplot:>"
      ]
     },
     "execution_count": 77,
     "metadata": {},
     "output_type": "execute_result"
    },
    {
     "data": {
      "image/png": "[encoded data removed]",
      "text/plain": [
       "<Figure size 1800x720 with 2 Axes>"
      ]
     },
     "metadata": {
      "needs_background": "light"
     },
     "output_type": "display_data"
    }
   ],
   "source": [
    "plt.figure(figsize = (25,10))\n",
    "sns.heatmap(df.corr(),annot = True)"
   ]
  },
  {
   "cell_type": "code",
   "execution_count": 78,
   "id": "3afe609b",
   "metadata": {
    "ExecuteTime": {
     "end_time": "2022-07-21T18:00:20.605128Z",
     "start_time": "2022-07-21T18:00:20.575981Z"
    }
   },
   "outputs": [],
   "source": [
    "df[\"race\"].replace(\"?\",np.nan,inplace = True)\n",
    "df.dropna(subset = [\"race\"],inplace = True)"
   ]
  },
  {
   "cell_type": "markdown",
   "id": "69463ee4",
   "metadata": {},
   "source": [
    "#### Model Development"
   ]
  },
  {
   "cell_type": "code",
   "execution_count": 79,
   "id": "fd3c86a5",
   "metadata": {
    "ExecuteTime": {
     "end_time": "2022-07-21T18:00:20.619910Z",
     "start_time": "2022-07-21T18:00:20.607162Z"
    }
   },
   "outputs": [],
   "source": [
    "from sklearn.metrics import accuracy_score,confusion_matrix,auc\n",
    "from sklearn.preprocessing import LabelEncoder\n",
    "le = LabelEncoder()\n"
   ]
  },
  {
   "cell_type": "code",
   "execution_count": 80,
   "id": "00744e9d",
   "metadata": {
    "ExecuteTime": {
     "end_time": "2022-07-21T18:00:20.683831Z",
     "start_time": "2022-07-21T18:00:20.620920Z"
    }
   },
   "outputs": [],
   "source": [
    "df[\"race\"] = le.fit_transform(df[\"race\"])\n",
    "df[\"age\"] = le.fit_transform(df[\"age\"])\n",
    "df[\"gender\"] = le.fit_transform(df[\"gender\"])\n",
    "df[\"change\"] = le.fit_transform(df[\"change\"])\n",
    "df[\"diabatic\"] = le.fit_transform(df[\"diabatic\"])"
   ]
  },
  {
   "cell_type": "code",
   "execution_count": 81,
   "id": "eccb4765",
   "metadata": {
    "ExecuteTime": {
     "end_time": "2022-07-21T18:00:20.699682Z",
     "start_time": "2022-07-21T18:00:20.684675Z"
    }
   },
   "outputs": [],
   "source": [
    "X=df.drop(\"diabatic\",axis=1)\n",
    "y=df.diabatic"
   ]
  },
  {
   "cell_type": "markdown",
   "id": "360744ce",
   "metadata": {},
   "source": [
    "#### Feature Importance"
   ]
  },
  {
   "cell_type": "code",
   "execution_count": 82,
   "id": "be93a5a1",
   "metadata": {
    "ExecuteTime": {
     "end_time": "2022-07-21T18:00:20.715704Z",
     "start_time": "2022-07-21T18:00:20.701677Z"
    }
   },
   "outputs": [],
   "source": [
    "from sklearn.ensemble import ExtraTreesClassifier"
   ]
  },
  {
   "cell_type": "code",
   "execution_count": 83,
   "id": "e2eab6d2",
   "metadata": {
    "ExecuteTime": {
     "end_time": "2022-07-21T18:00:25.112690Z",
     "start_time": "2022-07-21T18:00:20.717478Z"
    }
   },
   "outputs": [
    {
     "data": {
      "text/plain": [
       "ExtraTreesClassifier()"
      ]
     },
     "execution_count": 83,
     "metadata": {},
     "output_type": "execute_result"
    }
   ],
   "source": [
    "et = ExtraTreesClassifier()\n",
    "et.fit(X,y)"
   ]
  },
  {
   "cell_type": "code",
   "execution_count": 84,
   "id": "12dac57e",
   "metadata": {
    "ExecuteTime": {
     "end_time": "2022-07-21T18:00:34.625407Z",
     "start_time": "2022-07-21T18:00:34.376548Z"
    }
   },
   "outputs": [
    {
     "data": {
      "image/png": "[encoded data removed]",
      "text/plain": [
       "<Figure size 1080x720 with 1 Axes>"
      ]
     },
     "metadata": {
      "needs_background": "light"
     },
     "output_type": "display_data"
    }
   ],
   "source": [
    "plt.figure(figsize = (15,10))\n",
    "dd = pd.Series(et.feature_importances_,index=X.columns)\n",
    "dd.plot(kind = \"barh\")\n",
    "plt.show()"
   ]
  },
  {
   "cell_type": "markdown",
   "id": "bc148d51",
   "metadata": {},
   "source": [
    "#### Decision Tree"
   ]
  },
  {
   "cell_type": "code",
   "execution_count": 85,
   "id": "d120c1c4",
   "metadata": {
    "ExecuteTime": {
     "end_time": "2022-07-21T18:01:51.144701Z",
     "start_time": "2022-07-21T18:01:51.130740Z"
    }
   },
   "outputs": [],
   "source": [
    "from sklearn.tree import DecisionTreeClassifier\n",
    "from sklearn.model_selection import train_test_split"
   ]
  },
  {
   "cell_type": "code",
   "execution_count": 86,
   "id": "34b219bf",
   "metadata": {
    "ExecuteTime": {
     "end_time": "2022-07-21T18:02:29.251977Z",
     "start_time": "2022-07-21T18:02:29.227044Z"
    }
   },
   "outputs": [],
   "source": [
    "X_train, X_test, y_train, y_test = train_test_split(X,y, test_size=0.3,random_state=10)"
   ]
  },
  {
   "cell_type": "code",
   "execution_count": 87,
   "id": "9112a113",
   "metadata": {
    "ExecuteTime": {
     "end_time": "2022-07-21T18:03:06.187541Z",
     "start_time": "2022-07-21T18:03:06.172581Z"
    }
   },
   "outputs": [],
   "source": [
    "DTC= DecisionTreeClassifier()"
   ]
  },
  {
   "cell_type": "code",
   "execution_count": 88,
   "id": "51ea5715",
   "metadata": {
    "ExecuteTime": {
     "end_time": "2022-07-21T18:03:17.771109Z",
     "start_time": "2022-07-21T18:03:17.604974Z"
    }
   },
   "outputs": [
    {
     "data": {
      "text/plain": [
       "DecisionTreeClassifier()"
      ]
     },
     "execution_count": 88,
     "metadata": {},
     "output_type": "execute_result"
    }
   ],
   "source": [
    "DTC.fit(X_train,y_train)"
   ]
  },
  {
   "cell_type": "code",
   "execution_count": 89,
   "id": "1ccb8c19",
   "metadata": {
    "ExecuteTime": {
     "end_time": "2022-07-21T18:03:28.854253Z",
     "start_time": "2022-07-21T18:03:28.824336Z"
    }
   },
   "outputs": [],
   "source": [
    "y_pred = DTC.predict(X_test)"
   ]
  },
  {
   "cell_type": "code",
   "execution_count": 90,
   "id": "33eafc1c",
   "metadata": {
    "ExecuteTime": {
     "end_time": "2022-07-21T18:03:35.569466Z",
     "start_time": "2022-07-21T18:03:35.551522Z"
    }
   },
   "outputs": [
    {
     "data": {
      "text/plain": [
       "0.7113051916545367"
      ]
     },
     "execution_count": 90,
     "metadata": {},
     "output_type": "execute_result"
    }
   ],
   "source": [
    "accuracy_score(y_pred,y_test)"
   ]
  },
  {
   "cell_type": "code",
   "execution_count": 92,
   "id": "e61fd884",
   "metadata": {
    "ExecuteTime": {
     "end_time": "2022-07-21T18:04:10.773091Z",
     "start_time": "2022-07-21T18:04:10.741732Z"
    }
   },
   "outputs": [
    {
     "data": {
      "text/plain": [
       "array([[ 3785,  3101],\n",
       "       [ 2849, 10875]], dtype=int64)"
      ]
     },
     "execution_count": 92,
     "metadata": {},
     "output_type": "execute_result"
    }
   ],
   "source": [
    "confusion_matrix(y_test,DTC.predict(X_test))"
   ]
  },
  {
   "cell_type": "markdown",
   "id": "c2a07b93",
   "metadata": {},
   "source": [
    "#### Random Forest Classifier"
   ]
  },
  {
   "cell_type": "code",
   "execution_count": 93,
   "id": "6d290fbf",
   "metadata": {
    "ExecuteTime": {
     "end_time": "2022-07-21T18:06:16.626470Z",
     "start_time": "2022-07-21T18:06:16.614502Z"
    }
   },
   "outputs": [],
   "source": [
    "from sklearn.ensemble import RandomForestClassifier\n"
   ]
  },
  {
   "cell_type": "code",
   "execution_count": 94,
   "id": "fabfa5ab",
   "metadata": {
    "ExecuteTime": {
     "end_time": "2022-07-21T18:06:36.895056Z",
     "start_time": "2022-07-21T18:06:36.219196Z"
    }
   },
   "outputs": [
    {
     "data": {
      "text/plain": [
       "RandomForestClassifier(max_depth=2, random_state=0)"
      ]
     },
     "execution_count": 94,
     "metadata": {},
     "output_type": "execute_result"
    }
   ],
   "source": [
    "rf = RandomForestClassifier(max_depth= 2, random_state=0)\n",
    "rf.fit(X_train,y_train)"
   ]
  },
  {
   "cell_type": "code",
   "execution_count": 95,
   "id": "753092fe",
   "metadata": {
    "ExecuteTime": {
     "end_time": "2022-07-21T18:06:55.267399Z",
     "start_time": "2022-07-21T18:06:55.172141Z"
    }
   },
   "outputs": [
    {
     "data": {
      "text/plain": [
       "0.6681222707423581"
      ]
     },
     "execution_count": 95,
     "metadata": {},
     "output_type": "execute_result"
    }
   ],
   "source": [
    "accuracy_score(rf.predict(X_test),y_test)\n"
   ]
  },
  {
   "cell_type": "code",
   "execution_count": 100,
   "id": "2fa63c91",
   "metadata": {
    "ExecuteTime": {
     "end_time": "2022-07-21T18:10:58.802555Z",
     "start_time": "2022-07-21T18:10:58.694740Z"
    }
   },
   "outputs": [
    {
     "data": {
      "text/plain": [
       "array([[   59,  6827],\n",
       "       [   13, 13711]], dtype=int64)"
      ]
     },
     "execution_count": 100,
     "metadata": {},
     "output_type": "execute_result"
    }
   ],
   "source": [
    "confusion_matrix(y_test,rf.predict(X_test))"
   ]
  },
  {
   "cell_type": "markdown",
   "id": "9a52c68f",
   "metadata": {},
   "source": [
    "#### Decision Tree using GridSearchCV"
   ]
  },
  {
   "cell_type": "code",
   "execution_count": 101,
   "id": "b4dcb0bf",
   "metadata": {
    "ExecuteTime": {
     "end_time": "2022-07-21T18:12:52.660441Z",
     "start_time": "2022-07-21T18:12:43.398249Z"
    }
   },
   "outputs": [
    {
     "data": {
      "text/plain": [
       "GridSearchCV(cv=5, estimator=DecisionTreeClassifier(),\n",
       "             param_grid={'criterion': ['gini', 'entropy'],\n",
       "                         'max_depth': array([ 3,  4,  5,  6,  7,  8,  9, 10, 11, 12, 13, 14])})"
      ]
     },
     "execution_count": 101,
     "metadata": {},
     "output_type": "execute_result"
    }
   ],
   "source": [
    "from sklearn.model_selection import GridSearchCV\n",
    "param_grid = { 'criterion':['gini','entropy'],'max_depth': np.arange(3, 15)}\n",
    "# decision tree model\n",
    "dtree_model=DecisionTreeClassifier()\n",
    "#use gridsearch to test all values\n",
    "dtree_gscv = GridSearchCV(dtree_model, param_grid, cv=5)\n",
    "#fit model to data\n",
    "dtree_gscv.fit(X, y)"
   ]
  },
  {
   "cell_type": "code",
   "execution_count": 102,
   "id": "b994fd82",
   "metadata": {
    "ExecuteTime": {
     "end_time": "2022-07-21T18:22:27.934515Z",
     "start_time": "2022-07-21T18:22:27.918892Z"
    }
   },
   "outputs": [
    {
     "data": {
      "text/plain": [
       "DecisionTreeClassifier(max_depth=6)"
      ]
     },
     "execution_count": 102,
     "metadata": {},
     "output_type": "execute_result"
    }
   ],
   "source": [
    "dtree_gscv.best_estimator_\n"
   ]
  },
  {
   "cell_type": "code",
   "execution_count": 103,
   "id": "d1b28ebc",
   "metadata": {
    "ExecuteTime": {
     "end_time": "2022-07-21T18:22:36.752985Z",
     "start_time": "2022-07-21T18:22:36.738025Z"
    }
   },
   "outputs": [
    {
     "data": {
      "text/plain": [
       "array([0.70393293, 0.70182236, 0.70319069, 0.71166288, 0.70495215,\n",
       "       0.70185124, 0.7021862 , 0.69979891, 0.70144379, 0.69655257,\n",
       "       0.69780443, 0.69888167, 0.70372915, 0.70177869, 0.70094906,\n",
       "       0.70879534, 0.7032782 , 0.69675663, 0.70279757, 0.69895462,\n",
       "       0.70141473, 0.69678561, 0.69774638, 0.69859052])"
      ]
     },
     "execution_count": 103,
     "metadata": {},
     "output_type": "execute_result"
    }
   ],
   "source": [
    "scores = dtree_gscv.cv_results_\n",
    "scores[\"mean_test_score\"]"
   ]
  },
  {
   "cell_type": "code",
   "execution_count": 104,
   "id": "be74a108",
   "metadata": {
    "ExecuteTime": {
     "end_time": "2022-07-21T18:23:02.916191Z",
     "start_time": "2022-07-21T18:23:02.897243Z"
    }
   },
   "outputs": [
    {
     "data": {
      "text/plain": [
       "0.7420669577874818"
      ]
     },
     "execution_count": 104,
     "metadata": {},
     "output_type": "execute_result"
    }
   ],
   "source": [
    "dtree_gscv.score(X_test,y_test)\n"
   ]
  },
  {
   "cell_type": "code",
   "execution_count": 105,
   "id": "8fb2f718",
   "metadata": {
    "ExecuteTime": {
     "end_time": "2022-07-21T18:23:30.860128Z",
     "start_time": "2022-07-21T18:23:30.835195Z"
    }
   },
   "outputs": [
    {
     "data": {
      "text/plain": [
       "array([[ 4407,  2479],\n",
       "       [ 2837, 10887]], dtype=int64)"
      ]
     },
     "execution_count": 105,
     "metadata": {},
     "output_type": "execute_result"
    }
   ],
   "source": [
    "confusion_matrix(y_test,dtree_gscv.predict(X_test))"
   ]
  }
 ],
 "metadata": {
  "kernelspec": {
   "display_name": "Python 3 (ipykernel)",
   "language": "python",
   "name": "python3"
  },
  "language_info": {
   "codemirror_mode": {
    "name": "ipython",
    "version": 3
   },
   "file_extension": ".py",
   "mimetype": "text/x-python",
   "name": "python",
   "nbconvert_exporter": "python",
   "pygments_lexer": "ipython3",
   "version": "3.9.7"
  },
  "toc": {
   "base_numbering": 1,
   "nav_menu": {},
   "number_sections": true,
   "sideBar": true,
   "skip_h1_title": false,
   "title_cell": "Table of Contents",
   "title_sidebar": "Contents",
   "toc_cell": false,
   "toc_position": {},
   "toc_section_display": true,
   "toc_window_display": false
  }
 },
 "nbformat": 4,
 "nbformat_minor": 5
}
